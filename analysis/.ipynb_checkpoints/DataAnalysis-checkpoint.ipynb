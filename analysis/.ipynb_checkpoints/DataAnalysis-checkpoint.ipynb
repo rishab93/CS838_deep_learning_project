{
 "cells": [
  {
   "cell_type": "code",
   "execution_count": 12,
   "metadata": {
    "collapsed": true
   },
   "outputs": [],
   "source": [
    "import pandas as pd\n",
    "from matplotlib import pyplot as plt\n",
    "import os\n",
    "from os.path import dirname\n",
    "import fnmatch"
   ]
  },
  {
   "cell_type": "code",
   "execution_count": 14,
   "metadata": {
    "collapsed": true
   },
   "outputs": [],
   "source": [
    "data_path = [\"/Users/quickstep/Documents/DeepLearning/Project/train_data\"]"
   ]
  },
  {
   "cell_type": "code",
   "execution_count": 19,
   "metadata": {
    "collapsed": false
   },
   "outputs": [
    {
     "name": "stdout",
     "output_type": "stream",
     "text": [
      "/Users/quickstep/Documents/DeepLearning/Project/train_data/1/driving_log.csv\n",
      "/Users/quickstep/Documents/DeepLearning/Project/train_data/2/driving_log.csv\n",
      "/Users/quickstep/Documents/DeepLearning/Project/train_data/3/driving_log.csv\n",
      "/Users/quickstep/Documents/DeepLearning/Project/train_data/4/driving_log.csv\n",
      "/Users/quickstep/Documents/DeepLearning/Project/train_data/5/driving_log.csv\n",
      "/Users/quickstep/Documents/DeepLearning/Project/train_data/6/driving_log.csv\n",
      "/Users/quickstep/Documents/DeepLearning/Project/train_data/Ameya/run4/driving_log.csv\n",
      "/Users/quickstep/Documents/DeepLearning/Project/train_data/Deepak/Run1/driving_log.csv\n",
      "/Users/quickstep/Documents/DeepLearning/Project/train_data/Deepak/Run2/driving_log.csv\n",
      "/Users/quickstep/Documents/DeepLearning/Project/train_data/Deepak/Run3/driving_log.csv\n",
      "/Users/quickstep/Documents/DeepLearning/Project/train_data/Deepak/Run4/driving_log.csv\n",
      "/Users/quickstep/Documents/DeepLearning/Project/train_data/Deepak/Run5/driving_log.csv\n",
      "/Users/quickstep/Documents/DeepLearning/Project/train_data/Rishab/Run1/driving_log.csv\n",
      "/Users/quickstep/Documents/DeepLearning/Project/train_data/Rishab/Run10/driving_log.csv\n",
      "/Users/quickstep/Documents/DeepLearning/Project/train_data/Rishab/Run2/driving_log.csv\n",
      "/Users/quickstep/Documents/DeepLearning/Project/train_data/Rishab/Run3/driving_log.csv\n",
      "/Users/quickstep/Documents/DeepLearning/Project/train_data/Rishab/Run4/driving_log.csv\n",
      "/Users/quickstep/Documents/DeepLearning/Project/train_data/Rishab/Run5/driving_log.csv\n",
      "/Users/quickstep/Documents/DeepLearning/Project/train_data/Rishab/Run6/driving_log.csv\n",
      "/Users/quickstep/Documents/DeepLearning/Project/train_data/Rishab/Run7/driving_log.csv\n",
      "/Users/quickstep/Documents/DeepLearning/Project/train_data/Rishab/Run8/driving_log.csv\n",
      "/Users/quickstep/Documents/DeepLearning/Project/train_data/Rishab/Run9/driving_log.csv\n",
      "/Users/quickstep/Documents/DeepLearning/Project/train_data/saket/driving_log.csv\n"
     ]
    }
   ],
   "source": [
    "angles = []\n",
    "for train_data_folder in data_path:\n",
    "    for root, dirnames, filenames in os.walk(train_data_folder):\n",
    "        for filename in fnmatch.filter(filenames, '*.csv'):\n",
    "            data_file = os.path.join(root, filename)\n",
    "            #print (data_file)\n",
    "            data= pd.read_csv(data_file, header= None)\n",
    "            data.columns =[\"center_cam_image\",\"left_cam_image\",\"right_cam_image\",\\\n",
    "                      \"angle\",\"forward_throttle\",\"reverse_throttle\",\"speed\"]\n",
    "\n",
    "            steering_angle =  data[\"angle\"].values\n",
    "            angles+=steering_angle.tolist()"
   ]
  },
  {
   "cell_type": "code",
   "execution_count": null,
   "metadata": {
    "collapsed": true
   },
   "outputs": [],
   "source": []
  }
 ],
 "metadata": {
  "kernelspec": {
   "display_name": "Python 3",
   "language": "python",
   "name": "python3"
  },
  "language_info": {
   "codemirror_mode": {
    "name": "ipython",
    "version": 3
   },
   "file_extension": ".py",
   "mimetype": "text/x-python",
   "name": "python",
   "nbconvert_exporter": "python",
   "pygments_lexer": "ipython3",
   "version": "3.6.0"
  }
 },
 "nbformat": 4,
 "nbformat_minor": 2
}
